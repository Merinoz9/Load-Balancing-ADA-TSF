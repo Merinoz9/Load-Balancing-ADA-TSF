{
 "cells": [
  {
   "cell_type": "markdown",
   "metadata": {},
   "source": [
    "| Clave de la clase   |     ICC006      |\n",
    "|:----------|:-------------|\n",
    "| **Título del proyecto** |  Consistent y Rendezvous Hashing |\n",
    "| **Miembros de equipo** | 35994 - Sebastian Garcia<br>32366 - Luis Bernardo Bremer Ortega<br>32954 - John Brandon Nemeth Rodriguez<br>35592 - Rodrigo Rosas Fernandez|\n",
    "| **Fecha** | dd/mm/aaaa|"
   ]
  },
  {
   "cell_type": "markdown",
   "metadata": {},
   "source": [
    "### Estructura del proyecto:\n",
    "\n",
    "1. <b><span style=\"color:#B22222\">Introducción.</span></b>\n",
    "2. <b><span style=\"color:#B22222\">Pseudocódigo y análisis asintótico.</span></b>\n",
    "3. <b><span style=\"color:#B22222\">Caso de estudio.</span></b>\n",
    "4. <b><span style=\"color:#B22222\">Características del conjunto de datos.</span></b>\n",
    "5. <b><span style=\"color:#B22222\">Implementación.</span></b>\n",
    "6. <b><span style=\"color:#B22222\">Métricos.</span></b>\n",
    "7. <b><span style=\"color:#B22222\">Resultados y , limitaciones del algoritmo y otras heurísticas. </span></b>\n",
    "8. <b><span style=\"color:#B22222\">Referencias.</span></b>"
   ]
  },
  {
   "cell_type": "markdown",
   "metadata": {},
   "source": [
    "### 1. Introducción.\n",
    "\n",
    "Redacte uno o más parrafos. Utilice la siguiente lista de preguntas como guía:\n",
    "- ¿Quién diseño el algoritmo? nombre completo.\n",
    "- ¿Cuándo crearon el algoritmo?\n",
    "- ¿En qué paradigma se fundamenta el diseño del algoritmo? P. ej. fuerza bruta, probabilístico, golozo, dividir y conquistar, dinámico, incremental, aleatorizado, difuzo, backtraking, ramifización y poda, kenalización, y/o barrido.\n",
    "- ¿Qué clase de problema atendieron los autores? ordenamiento, búsqueda, reducción de información, representación eficiente de objetos, comparación de objetos, estimación de trayectorias, problemas geométricos, estimación de flujo, almacenamiento, numéricos, etc.)\n",
    "- ¿En qué consiste el problema que atendieron los autores?\n",
    "- ¿Para que modelo computacional desarrollaron el algoritmo? (secuencial, funcional, concurrente o paralelo)\n",
    "- ¿La solución que genera el algoritmo es exacta o aproximada?\n",
    "- Considere la operación más importante del algoritmo ¿Cómo funciona?\n",
    "- ¿Cómo evaluaron el desempeño del algoritmo?\n"
   ]
  },
  {
   "cell_type": "markdown",
   "metadata": {},
   "source": [
    "### 2. Pseudo-código.\n",
    "\n",
    "#### 2.1. Funciones. <br>\n",
    "Liste, de mayor a menor importancia, las funciones que comprende el algoritmo. p. ej. para un árbol binario estas son:\n",
    "- Búsqueda.\n",
    "- Predecesor.\n",
    "- Sucesor.\n",
    "- Máximo.\n",
    "- Mínimo.\n",
    "- Insertar.\n",
    "- Borrar.\n",
    "\n",
    "<br>\n",
    "\n",
    "#### 2.2. Elementos de la estructura de datos. <br>\n",
    "Liste y ejemplifique con una ilustración los principales componentes de la estructura de datos. p. ej.\n",
    "\n",
    "| | |\n",
    "|:---|:---|\n",
    "|La representación se fundamenta en el concepto de nodo<br><br><br> Un nodo contiene:<br>- Un campo<br> - Información satelital<br>- Izquierdo, apuntador al nodo izquierdo<br>- Derecho, apuntador al nodo derecho|<br><center><figure><img src=\"img/bt.png\" alt=\"nombre de su algoritmo\" width=\"200\" height=\"200\"><figcaption>Nombre de la estructura de datos p. ej. nodo</figcaption></figure><center><br>|\n",
    "\n",
    "<br>\n",
    "\n",
    "#### 2.3. Propiedades. <br>\n",
    "Liste y ejemplifique las principales propiedades que mantiene el algoritmo e indique que operación la mantiene. p. ej. para la búsqueda binaria son:\n",
    "- Orden. Anexe la ecuación matemática y una figura ilustrando una violación a la propiedad y como se restaura.\n",
    "- Estructural. Anexe la ecuación matemática y una figura ilustrando una violación a la propiedad y como se restaura.\n",
    "\n",
    "<br>\n",
    "\n",
    "#### 2.4. <Nombre de la función><br>\n",
    "\n",
    "Para cada función defina:\n",
    "- **El objetivo de la función**. En caso de que aplique, describa como se tratan los diferentes casos que analiza la función. Todas las variables que utilice deben estar definidas o debe definirlas en esta sección.\n",
    "- **Liste el pseudocódigo e incorpore su análisis asintótico**. El pseudocódigo debe estar indentado, cada instrucción debe estar enumerada. En caso de incluir comentarios debe utilizar el estilo de C/C++. Si el análisis lo amerita formule su análisis utilizando el concepto de recursión y aplique un método para la solución de recursiones, caso contrario aplique análisis acumulativo. En cualquier caso, inicie su análisis indicando el método que aplica. El análisis solo debe considerar el **peor de los casos**.\n",
    "\n",
    "<br>\n",
    "\n",
    "Lo siguiente es un ejemplo del objetivo de una función.\n",
    "\n",
    "**Objetivo**: *sucesor(x) = y, talque llave[y] is la llave más pequeña > llave[x], con x e y dos nodos*\n",
    "\n",
    "- **Caso 1**. derecho(x) no esta vacío, entonces sucesor(x) es el mínimo de derecho(x).\n",
    "- **Caso 2**. \n",
    "    - subir el árbol hasta que el nodo actual sea un hijo izquierdo.\n",
    "    - Si no se puede subir más, x es el nodo más grande.\n",
    "\n",
    "<br>\n",
    "\n",
    "Lo siguiente es un ejemplo del pseudocódigo de una función.\n",
    "\n",
    "```C\n",
    "Alg. Busqueda-binaria(x, k)\n",
    "    1. if x == NIL or k == key[x]\n",
    "    2.     then return x\n",
    "    3. if k < key[x]\n",
    "    4.     then return Busqueda-binaria(izquierda[x], k)\n",
    "    5.     then return Busqueda-binaria(derecha[x],k)\n",
    "```\n",
    "\n",
    "Lo siguiente es un ejemplo de un análisis.<br>\n",
    "\n",
    "El análisis de *Busqueda-binaria* es acumulativo. La búsqueda parte de la raíz hasta llegar a una hoja ... $O \\left ( \\log n \\right )$ "
   ]
  },
  {
   "cell_type": "markdown",
   "metadata": {},
   "source": [
    "### 3. Caso de estudio\n",
    "\n",
    "Para analizar el desempeño de su algoritmo deberá procesar un conjunto de datos. Por ejemplo, para un algoritmo de almacenamiento de datos el caso de estudio puede ser almacenar las preguntas que hace un usuario en una búsqueda de internet. Puede hacer uso de un conjunto de datos existente en:\n",
    "- [Dataset search de Google](https://datasetsearch.research.google.com/).\n",
    "- [Open dataset de Kaggle](https://www.kaggle.com/datasets).\n",
    "- [Nasa](https://pds.nasa.gov/datasearch/data-search/).\n",
    "- [INEGI](https://www.inegi.org.mx/siscon/)."
   ]
  },
  {
   "cell_type": "markdown",
   "metadata": {},
   "source": [
    "### 4. Características del conjunto de datos.\n",
    "\n",
    "Debe analizar su conjunto de datos estimando [estadísticos de dispersión](https://en.wikipedia.org/wiki/Statistical_dispersion) propiamente: media, varianza, desviación estandar y quartiles. Existen paquetes en Excell, pandas u otras herramientas que le permiten estimar tales parámetros de manera sencilla. Incluya una tabla o una imagen con su análisis y explique que propiedades tiene su conjunto de datos."
   ]
  },
  {
   "cell_type": "markdown",
   "metadata": {
    "collapsed": true
   },
   "source": [
    "### 5. Implementación.\n",
    "\n",
    "El proyecto debe cumplir con las siguientes especificaciones:\n",
    "- Codificado en C/C++. Puede hacer uso de bibliotecas compartidas siempre y cuando estas funcionen en Unix.\n",
    "- Debe implementar el proyecto como una biblioteca integrada por los siguientes archivos:\n",
    "    - ```CMakeLists.txt```\n",
    "    - ```algoritmo.hpp```, el algoritmo a implementar. Nombre el archivo con un nombre adecuado para el algoritmo. \n",
    "    - ```algoritmo_de_entrada.hpp```, en caso de el proceso de cargado de datos sea elaborado coloque su procedimiento de cargado de datos en una clase independiente. Declare el método de lectura de datos como estático y utilice este procedimiento en todas su pruebas para cargar el conjunto de datos. \n",
    "    - ```datos_<etiqueta>_prueba.<extension>```, el conjunto de datos que utilicen para pruebas de insercion, consulta y borrado. Sustituya <eqtiqueta> por un nombre apropiado en acorde a la clase de información que almacena el conjunto de datos. Este conjunto de datos debe ser pequeño.\n",
    "    - ```datos_<etiqueta>_validacion.<extension>```, el conjunto de datos que utilicen para la prueba ```intensiva```. Este conjunto de datos debe ser el original que bajaron de un repositorio. **Procure utilizar un conjunto de datos con extensión csv o txt**, esto con el objetivo de que no seleccione un formato complejo de alamcenamiento de conjunto de datos y le sea dificil el leerlos. \n",
    "    - Debe crear almenos tres pruebas: inserción, consulta y la prueba intensiva. En caso de que la estructura de datos soporte borrado. El número total de pruebas debe ser cuatro. Las pruebas inserción, consulta y borrado deben hacer uso del conjunto de datos ```datos_<etiqueta>_prueba.<extension>```. La prueba intensiva debe hacer uso del conjunto de datos ```datos_<etiqueta>_validacion.<extension>```.\n",
    "- El proyecto debe estar integrado por los siguientes elementos:\n",
    "\n",
    "```\n",
    "project\n",
    "│     CMakeLists.txt\n",
    "│   \n",
    "└───build   # ubicación donde generará su código fuente\n",
    "│   │   \n",
    "│   │   \n",
    "│   │   ...\n",
    "│   \n",
    "└───include # ubicación donde colocará el/los archivos de la biblioteca a implementar\n",
    "│   │  algoritmo.hpp  \n",
    "│   │  algoritmo_de_entrada.hpp\n",
    "│   │   ...\n",
    "│   \n",
    "└───src    # ubicación donde colocará un archivo de pruebas personales \n",
    "│   │   \n",
    "│   │   \n",
    "│   │   ...\n",
    "│\n",
    "└───dataset # ubicación donde colocará su conjunto de datos \n",
    "│   │   datos_<etiqueta>_prueba.<extension>\n",
    "│   │   datos_<etiqueta>_validacion.<extension>\n",
    "│   │   ...\n",
    "│   \n",
    "└─── test\n",
    "    │   prueba_insercion.cpp\n",
    "    │   prueba_consulta.cpp\n",
    "    │   prueba_borrado.cpp\n",
    "    │   prueba_intensiva.cpp\n",
    "    │   ...\n",
    "    \n",
    "```"
   ]
  },
  {
   "cell_type": "code",
   "execution_count": null,
   "metadata": {},
   "outputs": [],
   "source": []
  }
 ],
 "metadata": {
  "kernelspec": {
   "display_name": "Python 3 (ipykernel)",
   "language": "python",
   "name": "python3"
  },
  "language_info": {
   "codemirror_mode": {
    "name": "ipython",
    "version": 3
   },
   "file_extension": ".py",
   "mimetype": "text/x-python",
   "name": "python",
   "nbconvert_exporter": "python",
   "pygments_lexer": "ipython3",
   "version": "3.9.12"
  }
 },
 "nbformat": 4,
 "nbformat_minor": 2
}
